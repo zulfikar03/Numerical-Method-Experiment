{
 "cells": [
  {
   "cell_type": "markdown",
   "id": "ebb1e7fa",
   "metadata": {},
   "source": [
    "Nama : Zulfikar Irham\n",
    "\n",
    "NIM : 21/475393/PA/20574"
   ]
  },
  {
   "cell_type": "markdown",
   "id": "d74e0ce2",
   "metadata": {},
   "source": [
    "## **Tugas** Modul 4 Praktikum Metode Numerik\n",
    "\n",
    "Di dalam mekanika kuantum, ungkapan untuk memperoleh harga harap (_expectation value_) bagi besaran posisi kuadrat ($x^2$) pada sistem osilator harmonik pada tingkatan tenaga ke $10$ diberikan oleh ungkapan\n",
    "\n",
    "$$<x^2>=\\int_{-\\infty}^\\infty\\psi_{10}^*(x)x^2\\psi_{10}(x)\\,dx$$\n",
    "\n",
    "Dalam ungkapan di atas, fungsi *Hermite* pada orde ke $n$ yaitu $\\psi_n(x)$ dikaitkan dengan polinomial *Hermite* orde ke $n$ yaitu $H_n(x)$ oleh bentuk yang sudah disampakan pad Modul ke 2 yaitu\n",
    "\n",
    "$$\\psi_n(x)=\\sqrt{\\frac{1}{2^n n!\\sqrt{\\pi}}}e^{-\\tfrac{x^2}{2}}H_n(x)$$\n",
    "\n",
    "Dengan demikian bentuk eksplisit harga harap (_expectation value_) bagi besaran posisi kuadrat adalah\n",
    "\n",
    "$$<x^2>=\\frac{1}{2^{10} 10!\\sqrt{\\pi}}\\int_{-\\infty}^\\infty\\,e^{-x^2}x^2H_{10}^2(x)\\,dx\\tag{14}$$\n",
    "\n",
    "1. Metode Integrasi Numerik Simpson\n",
    "> * Tentukan nilai harga harap (_expectation value_) bagi besaran posisi kuadrat seperti diberikan oleh pers (14) dengan menggunakan integrasi numerik Simpson. \n",
    "> * Sebagai pengganti bagi batas integral yang bernilai tak berhingga, maka dapat digunakan hasil plot fungsi *Hermite* orde ke 10 yang telah diperoleh pada Tugas di Modul ke 2. Dari plot tersebut maka dapat dilihat bahwa nilai fungsi *Hermite* orde ke 10 akan mengecil secara asimtotik pada nilai di sekitar $x\\approx -8$ dan $x\\approx 8$. Dengan demikian maka dapat diambil sebagai pendekatan bahwa batas integral dapat diambil pada $a=-8$ dan $b=8$.\n",
    "\n",
    "2. Metode Kuadratur Numerik\n",
    "> * Merujuk pada Tabel yang disampaikan di atas maka ungkapan pers (14) akan sesaui dengan bentuk metode kuadratur *Gauss-Hermite*. Tentukan nilai harga harap (_expectation value_) bagi besaran posisi kuadrat seperti diberikan oleh pers (14) dengan menggunakan integrasi kuadratur *Gauss-Hermite*.\n",
    "\n",
    "Coba amati dan bandingkan hasil perhitungan dengan kedua metode di atas dan berikan komentar atas hasil tersebut."
   ]
  },
  {
   "cell_type": "markdown",
   "id": "6bff35f5",
   "metadata": {},
   "source": [
    "# Jawab No.1"
   ]
  },
  {
   "cell_type": "code",
   "execution_count": 2,
   "id": "f0816520",
   "metadata": {},
   "outputs": [],
   "source": [
    "#import library yg akan digunakan\n",
    "import numpy as np\n",
    "from math import factorial\n",
    "from numpy.polynomial.hermite import hermgauss\n",
    "from scipy.special import hermite"
   ]
  },
  {
   "cell_type": "markdown",
   "id": "0bba7c84",
   "metadata": {},
   "source": [
    "Kaitan rekurensi hermite sebagai berikut:\n",
    "\n",
    "$$H_{n+1} = 2xH_{n}-2nH_{n-1}$$\n",
    "\n",
    "Dapat diprogram sebagai berikut"
   ]
  },
  {
   "cell_type": "code",
   "execution_count": 3,
   "id": "cee3f193",
   "metadata": {},
   "outputs": [],
   "source": [
    "def hermiten(x,n):\n",
    "    yrekur0 = 1.0 + 0.0*x\n",
    "    yrekur1 = 2.0*x\n",
    "    if n == 0:\n",
    "        return yrekur0\n",
    "    elif n == 1:\n",
    "        return yrekur1\n",
    "    else:\n",
    "        for i in range (1,n):\n",
    "            yrekur = 2.0*x*yrekur1-2.0*i*yrekur0\n",
    "            yrekur0 = yrekur1\n",
    "            yrekur1 = yrekur\n",
    "        return yrekur"
   ]
  },
  {
   "cell_type": "markdown",
   "id": "78d42ffd",
   "metadata": {},
   "source": [
    "$$<x^2>=\\frac{1}{2^{10} 10!\\sqrt{\\pi}}\\int_{-\\infty}^\\infty\\,e^{-x^2}x^2H_{10}^2(x)\\,dx\\tag{14}$$\n",
    "\n",
    "dengan\n",
    "\n",
    "$$f(x)=\\int_{-\\infty}^\\infty\\,e^{-x^2}x^2H_{10}^2(x)\\,dx$$ \n",
    "\n",
    "dan\n",
    "\n",
    "$$k = \\frac{1}{2^{10} 10!\\sqrt{\\pi}}, \\text{ sebagai konstanta}$$\n",
    "\n",
    "fungsi $f(x)$ dan konstanta $k$ dapat diprogram sebagai berikut:"
   ]
  },
  {
   "cell_type": "code",
   "execution_count": 4,
   "id": "99e1e376",
   "metadata": {},
   "outputs": [],
   "source": [
    "def fung(x,n):\n",
    "    fx = np.exp(-x**2)*x**2*(hermiten(x,n))**2\n",
    "    return fx\n",
    "\n",
    "k = 1/(2**10*factorial(10)*np.sqrt(np.pi))"
   ]
  },
  {
   "cell_type": "code",
   "execution_count": 5,
   "id": "a7e67dce",
   "metadata": {},
   "outputs": [],
   "source": [
    "#Fungsi untuk integral simpson\n",
    "def integsimpson(a,b,n):\n",
    "    h=(b-a)/float(n)\n",
    "    sumodd=0.0\n",
    "    nhalf=int(n/2)\n",
    "    for i in range(1, nhalf + 1):\n",
    "        xodd = a + (2*i -1)*h\n",
    "        sumodd += fung(xodd,10)\n",
    "    sumeven=0.0\n",
    "    for i in range(1, nhalf):\n",
    "        xeven = a + 2*i*h\n",
    "        sumeven += fung(xeven,10)\n",
    "    integsimp = h*(fung(a,10) + 4.0*sumodd + 2.0*sumeven + fung(b,10))/3.0\n",
    "    return integsimp"
   ]
  },
  {
   "cell_type": "code",
   "execution_count": 6,
   "id": "d5ef107c",
   "metadata": {},
   "outputs": [
    {
     "data": {
      "text/plain": [
       "10.499999999999854"
      ]
     },
     "execution_count": 6,
     "metadata": {},
     "output_type": "execute_result"
    }
   ],
   "source": [
    "#Mencoba hasil integrasi\n",
    "hasilIntegrasi = k*integsimpson(-8,8,100)\n",
    "hasilIntegrasi"
   ]
  },
  {
   "cell_type": "code",
   "execution_count": 7,
   "id": "9386ea7a",
   "metadata": {},
   "outputs": [
    {
     "name": "stdout",
     "output_type": "stream",
     "text": [
      "n1 = 9.441007771379485e-12\n",
      "n2 = 4.7205038856897424e-12\n",
      "n3 = 2.0287342010019183\n",
      "n4 = 46.28405494899183\n",
      "n5 = 6.364928882863888\n",
      "n6 = 1.7556823391316119\n",
      "n7 = 0.21266333642046548\n",
      "n8 = 13.960103873348123\n",
      "n9 = 13.548272726411547\n",
      "n10 = 6.960154687355956\n",
      "n11 = 6.077249800957518\n",
      "n12 = 16.97857124382593\n",
      "n13 = 14.638336069931269\n",
      "n14 = 9.742999150923373\n",
      "n15 = 7.697185229467785\n",
      "n16 = 12.20595936586901\n",
      "n17 = 11.129027254624205\n",
      "n18 = 5.571221340106437\n",
      "n19 = 12.050133721899234\n",
      "n20 = 12.427086631521519\n",
      "n21 = 9.032842425479975\n",
      "n22 = 13.197438886632133\n",
      "n23 = 10.353309536780174\n",
      "n24 = 9.25767396182912\n",
      "n25 = 10.779761689281385\n",
      "n26 = 8.8788951251745\n",
      "n27 = 10.587409008374436\n",
      "n28 = 11.499926246460715\n",
      "n29 = 10.511128590648466\n",
      "n30 = 11.430113558993838\n",
      "n31 = 10.500759885811846\n",
      "n32 = 9.35259849671354\n",
      "n33 = 10.500030782220572\n",
      "n34 = 10.290317323028951\n",
      "n35 = 10.500000780115032\n",
      "n36 = 11.478152890009268\n",
      "n37 = 10.500000012730686\n",
      "n38 = 9.98328875342462\n",
      "n39 = 10.500000000096591\n",
      "n40 = 10.26903185819896\n",
      "n41 = 10.49999999996947\n",
      "n42 = 10.98905252331974\n",
      "n43 = 10.499999999975774\n",
      "n44 = 10.194201917267337\n",
      "n45 = 10.499999999981\n",
      "n46 = 10.54889682041371\n",
      "n47 = 10.4999999999848\n",
      "n48 = 10.581138784308946\n",
      "n49 = 10.499999999987631\n",
      "n50 = 10.406746103250738\n",
      "n51 = 10.49999999998979\n",
      "n52 = 10.560414793430903\n",
      "n53 = 10.499999999991454\n",
      "n54 = 10.470863663702275\n",
      "n55 = 10.499999999992763\n",
      "n56 = 10.511350202639312\n",
      "n57 = 10.499999999993799\n",
      "n58 = 10.496290469683618\n",
      "n59 = 10.499999999994637\n",
      "n60 = 10.501039493676382\n",
      "n61 = 10.499999999995326\n",
      "n62 = 10.499746704667496\n",
      "n63 = 10.499999999995888\n",
      "n64 = 10.500054202788917\n",
      "n65 = 10.499999999996344\n",
      "n66 = 10.499989739219519\n",
      "n67 = 10.499999999996733\n",
      "n68 = 10.500001728032407\n",
      "n69 = 10.499999999997078\n",
      "n70 = 10.49999973993423\n",
      "n71 = 10.499999999997348\n",
      "n72 = 10.500000035104009\n",
      "n73 = 10.499999999997595\n",
      "n74 = 10.499999995737044\n",
      "n75 = 10.4999999999978\n",
      "n76 = 10.500000000466724\n",
      "n77 = 10.499999999997984\n",
      "n78 = 10.499999999953639\n",
      "n79 = 10.499999999998149\n",
      "n80 = 10.500000000003997\n",
      "n81 = 10.499999999998273\n",
      "n82 = 10.499999999999506\n",
      "n83 = 10.4999999999984\n",
      "n84 = 10.499999999999877\n",
      "n85 = 10.499999999998506\n",
      "n86 = 10.499999999999847\n",
      "n87 = 10.499999999998604\n",
      "n88 = 10.499999999999869\n",
      "n89 = 10.49999999999869\n",
      "n90 = 10.499999999999854\n",
      "n91 = 10.49999999999877\n",
      "n92 = 10.499999999999854\n",
      "n93 = 10.499999999998836\n",
      "n94 = 10.499999999999861\n",
      "n95 = 10.499999999998904\n",
      "n96 = 10.499999999999853\n",
      "n97 = 10.499999999998956\n",
      "n98 = 10.49999999999986\n",
      "n99 = 10.49999999999901\n",
      "n100 = 10.499999999999854\n"
     ]
    }
   ],
   "source": [
    "#Menampilkan hasil integrasi simpson dari iterasi ke-1 sampai iterasi ke-100\n",
    "for i in range(1,101):\n",
    "    hasilIntegrasi =k*integsimpson(-8,8,i)\n",
    "    print(f\"n{i} = {hasilIntegrasi}\")"
   ]
  },
  {
   "cell_type": "markdown",
   "id": "8460eb1d",
   "metadata": {},
   "source": [
    "## Jawab No.2"
   ]
  },
  {
   "cell_type": "code",
   "execution_count": 66,
   "id": "cf48a3d7",
   "metadata": {},
   "outputs": [],
   "source": [
    "#library hermgauss untuk memanggil x dan w-nya\n",
    "from numpy.polynomial.hermite import hermgauss\n",
    "from scipy.special import hermite"
   ]
  },
  {
   "cell_type": "markdown",
   "id": "06c91cc6",
   "metadata": {},
   "source": [
    "Dikarenakan batas intergral adalah $[-\\infty,\\infty]$ maka digunakanlah metode Gauss Hermite dengan bobot $e^{-x^2}$. Oleh karena itu, fungsinya berubah menjadi $f(x)=x^2H^{2}_{10}$ dan diprogram sebagai berikut dan nilai k yang sama seperti pada soal no.1"
   ]
  },
  {
   "cell_type": "code",
   "execution_count": 8,
   "id": "491f8b27",
   "metadata": {},
   "outputs": [],
   "source": [
    "def fung_gh(x):\n",
    "    return x**2*(hermiten(x,10))**2\n",
    "\n",
    "k = 1/(2**10*factorial(10)*np.sqrt(np.pi))"
   ]
  },
  {
   "cell_type": "code",
   "execution_count": 10,
   "id": "3de6660f",
   "metadata": {},
   "outputs": [],
   "source": [
    "def gauss_hermite(n):\n",
    "    x,w = hermgauss(n)\n",
    "    hasil = 0\n",
    "    for i in range(n):\n",
    "        hasil += w[i]*fung_gh(x[i])\n",
    "    return hasil"
   ]
  },
  {
   "cell_type": "code",
   "execution_count": 11,
   "id": "309ce411",
   "metadata": {},
   "outputs": [
    {
     "data": {
      "text/plain": [
       "10.500000000000028"
      ]
     },
     "execution_count": 11,
     "metadata": {},
     "output_type": "execute_result"
    }
   ],
   "source": [
    "hasilGauss = k*gauss_hermite(15)\n",
    "hasilGauss"
   ]
  },
  {
   "cell_type": "code",
   "execution_count": 12,
   "id": "9173c4df",
   "metadata": {},
   "outputs": [
    {
     "name": "stdout",
     "output_type": "stream",
     "text": [
      "n1 = 0.0\n",
      "n2 = 0.20373897707231034\n",
      "n3 = 0.31499999999999967\n",
      "n4 = 0.23571428571428543\n",
      "n5 = 1.2156084656084654\n",
      "n6 = 1.3214285714285698\n",
      "n7 = 0.6999999999999994\n",
      "n8 = 4.04444444444445\n",
      "n9 = 3.599999999999998\n",
      "n10 = 3.625279947345096e-30\n",
      "n11 = 4.999999999999992\n",
      "n12 = 10.500000000000002\n",
      "n13 = 10.500000000000014\n",
      "n14 = 10.499999999999972\n",
      "n15 = 10.500000000000028\n",
      "n16 = 10.499999999999986\n",
      "n17 = 10.499999999999972\n",
      "n18 = 10.500000000000032\n",
      "n19 = 10.50000000000003\n",
      "n20 = 10.499999999999975\n",
      "n21 = 10.500000000000023\n",
      "n22 = 10.499999999999993\n",
      "n23 = 10.500000000000023\n",
      "n24 = 10.499999999999986\n",
      "n25 = 10.500000000000012\n",
      "n26 = 10.499999999999977\n",
      "n27 = 10.500000000000002\n",
      "n28 = 10.499999999999996\n",
      "n29 = 10.499999999999991\n",
      "n30 = 10.499999999999991\n",
      "n31 = 10.499999999999996\n",
      "n32 = 10.499999999999993\n",
      "n33 = 10.500000000000039\n",
      "n34 = 10.500000000000007\n",
      "n35 = 10.500000000000014\n",
      "n36 = 10.500000000000007\n",
      "n37 = 10.499999999999982\n",
      "n38 = 10.500000000000009\n",
      "n39 = 10.499999999999977\n",
      "n40 = 10.500000000000014\n",
      "n41 = 10.49999999999999\n",
      "n42 = 10.499999999999972\n",
      "n43 = 10.499999999999982\n",
      "n44 = 10.500000000000012\n",
      "n45 = 10.499999999999993\n",
      "n46 = 10.499999999999982\n",
      "n47 = 10.499999999999963\n",
      "n48 = 10.499999999999977\n",
      "n49 = 10.499999999999986\n",
      "n50 = 10.500000000000007\n",
      "n51 = 10.500000000000005\n",
      "n52 = 10.499999999999996\n",
      "n53 = 10.499999999999993\n",
      "n54 = 10.500000000000005\n",
      "n55 = 10.500000000000002\n",
      "n56 = 10.500000000000007\n",
      "n57 = 10.499999999999977\n",
      "n58 = 10.499999999999996\n",
      "n59 = 10.49999999999999\n",
      "n60 = 10.499999999999998\n",
      "n61 = 10.499999999999991\n",
      "n62 = 10.499999999999998\n",
      "n63 = 10.500000000000007\n",
      "n64 = 10.499999999999996\n",
      "n65 = 10.5\n",
      "n66 = 10.49999999999999\n",
      "n67 = 10.499999999999993\n",
      "n68 = 10.499999999999998\n",
      "n69 = 10.500000000000012\n",
      "n70 = 10.499999999999998\n",
      "n71 = 10.499999999999986\n",
      "n72 = 10.5\n",
      "n73 = 10.500000000000023\n",
      "n74 = 10.499999999999993\n",
      "n75 = 10.49999999999999\n",
      "n76 = 10.500000000000007\n",
      "n77 = 10.499999999999986\n",
      "n78 = 10.5\n",
      "n79 = 10.49999999999999\n",
      "n80 = 10.499999999999993\n",
      "n81 = 10.49999999999999\n",
      "n82 = 10.500000000000012\n",
      "n83 = 10.499999999999984\n",
      "n84 = 10.499999999999993\n",
      "n85 = 10.500000000000014\n",
      "n86 = 10.49999999999999\n",
      "n87 = 10.499999999999993\n",
      "n88 = 10.499999999999996\n",
      "n89 = 10.500000000000007\n",
      "n90 = 10.5\n",
      "n91 = 10.499999999999998\n",
      "n92 = 10.499999999999982\n",
      "n93 = 10.49999999999999\n",
      "n94 = 10.499999999999984\n",
      "n95 = 10.500000000000012\n",
      "n96 = 10.499999999999991\n",
      "n97 = 10.500000000000012\n",
      "n98 = 10.500000000000002\n",
      "n99 = 10.5\n",
      "n100 = 10.500000000000009\n"
     ]
    }
   ],
   "source": [
    "for i in range(1,101):\n",
    "    hasilGauss = k*gauss_hermite(i)\n",
    "    print(f\"n{i} = {hasilGauss}\")"
   ]
  },
  {
   "cell_type": "markdown",
   "id": "5e442c81",
   "metadata": {},
   "source": [
    "# Kesimpulan\n",
    "\n",
    "Untuk metode integsimpson untuk mendapatkan nilai ekspektasi value sekitar 10,5  diperlukan iterasi hingga sekitar di atas 50 untuk mendapatkan nilai yang akurat. Sedangkan untuk metode gauss hermite hanya dengan iterasi 12 dan seterusnya sudah bisa mendapatkan nilai yg sangat mendekati 10,5. Dari uraian tersebut dapat disimpulkan metode gauss hermite lebih baik dalam kecepatan proses komputasinya."
   ]
  },
  {
   "cell_type": "code",
   "execution_count": null,
   "id": "53b42c14",
   "metadata": {},
   "outputs": [],
   "source": []
  }
 ],
 "metadata": {
  "kernelspec": {
   "display_name": "Python 3 (ipykernel)",
   "language": "python",
   "name": "python3"
  },
  "language_info": {
   "codemirror_mode": {
    "name": "ipython",
    "version": 3
   },
   "file_extension": ".py",
   "mimetype": "text/x-python",
   "name": "python",
   "nbconvert_exporter": "python",
   "pygments_lexer": "ipython3",
   "version": "3.9.12"
  },
  "varInspector": {
   "cols": {
    "lenName": 16,
    "lenType": 16,
    "lenVar": 40
   },
   "kernels_config": {
    "python": {
     "delete_cmd_postfix": "",
     "delete_cmd_prefix": "del ",
     "library": "var_list.py",
     "varRefreshCmd": "print(var_dic_list())"
    },
    "r": {
     "delete_cmd_postfix": ") ",
     "delete_cmd_prefix": "rm(",
     "library": "var_list.r",
     "varRefreshCmd": "cat(var_dic_list()) "
    }
   },
   "types_to_exclude": [
    "module",
    "function",
    "builtin_function_or_method",
    "instance",
    "_Feature"
   ],
   "window_display": false
  }
 },
 "nbformat": 4,
 "nbformat_minor": 5
}
